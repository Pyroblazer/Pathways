{
 "cells": [
  {
   "cell_type": "code",
   "execution_count": 1,
   "id": "037ae1c7",
   "metadata": {},
   "outputs": [],
   "source": [
    "from keras.models import Sequential\n",
    "from keras.layers.core import Dense, Dropout, Activation\n",
    "from keras.utils import np_utils\n",
    "from keras.preprocessing.text import Tokenizer\n",
    "from keras import metrics\n",
    "from keras.layers.embeddings import Embedding\n",
    "from keras.preprocessing.sequence import pad_sequences\n",
    "from keras.preprocessing.text import one_hot\n",
    "from keras.layers import Flatten\n",
    "\n",
    "from nltk import word_tokenize, pos_tag, chunk\n",
    "from pprint import pprint\n",
    "from nltk.corpus import stopwords\n",
    "from nltk.tokenize import RegexpTokenizer\n",
    "from nltk.stem import WordNetLemmatizer\n",
    "\n",
    "from pprint import pprint\n",
    "import pandas as pd\n",
    "import numpy as np\n",
    "\n",
    "from keras import optimizers\n",
    "from keras.layers import Dense\n",
    "from sklearn.model_selection import GridSearchCV\n",
    "from keras.wrappers.scikit_learn import KerasClassifier\n",
    "from sklearn.model_selection import train_test_split\n",
    "from sklearn.preprocessing import LabelBinarizer\n",
    "from keras.constraints import maxnorm\n",
    "from keras.layers import Dropout\n",
    "import os"
   ]
  },
  {
   "cell_type": "code",
   "execution_count": 2,
   "id": "d51d6d27",
   "metadata": {},
   "outputs": [],
   "source": [
    "filename = './25_cleaned_job_descriptions.csv'\n",
    "data = pd.read_csv(filename, header = 0, names = ['Query', 'Description'])"
   ]
  },
  {
   "cell_type": "code",
   "execution_count": 3,
   "id": "a766e07f",
   "metadata": {},
   "outputs": [
    {
     "data": {
      "text/plain": [
       "(10000, 2)"
      ]
     },
     "execution_count": 3,
     "metadata": {},
     "output_type": "execute_result"
    }
   ],
   "source": [
    "data.shape"
   ]
  },
  {
   "cell_type": "code",
   "execution_count": 117,
   "id": "7d03ce22",
   "metadata": {},
   "outputs": [
    {
     "data": {
      "text/html": [
       "<div>\n",
       "<style scoped>\n",
       "    .dataframe tbody tr th:only-of-type {\n",
       "        vertical-align: middle;\n",
       "    }\n",
       "\n",
       "    .dataframe tbody tr th {\n",
       "        vertical-align: top;\n",
       "    }\n",
       "\n",
       "    .dataframe thead th {\n",
       "        text-align: right;\n",
       "    }\n",
       "</style>\n",
       "<table border=\"1\" class=\"dataframe\">\n",
       "  <thead>\n",
       "    <tr style=\"text-align: right;\">\n",
       "      <th></th>\n",
       "      <th>Query</th>\n",
       "      <th>Description</th>\n",
       "    </tr>\n",
       "  </thead>\n",
       "  <tbody>\n",
       "    <tr>\n",
       "      <th>0</th>\n",
       "      <td>Data Scientist</td>\n",
       "      <td>job description junior data scientist ibm work...</td>\n",
       "    </tr>\n",
       "    <tr>\n",
       "      <th>1</th>\n",
       "      <td>Data Scientist</td>\n",
       "      <td>overall summary data scientist data science so...</td>\n",
       "    </tr>\n",
       "    <tr>\n",
       "      <th>2</th>\n",
       "      <td>Data Scientist</td>\n",
       "      <td>team data science team newly formed applied re...</td>\n",
       "    </tr>\n",
       "    <tr>\n",
       "      <th>3</th>\n",
       "      <td>Data Scientist</td>\n",
       "      <td>need junior data scientist ny area remote succ...</td>\n",
       "    </tr>\n",
       "    <tr>\n",
       "      <th>4</th>\n",
       "      <td>Data Scientist</td>\n",
       "      <td>want help guide core business spotify using in...</td>\n",
       "    </tr>\n",
       "    <tr>\n",
       "      <th>...</th>\n",
       "      <td>...</td>\n",
       "      <td>...</td>\n",
       "    </tr>\n",
       "    <tr>\n",
       "      <th>9995</th>\n",
       "      <td>Network Architect</td>\n",
       "      <td>opportunity customer understand digital transf...</td>\n",
       "    </tr>\n",
       "    <tr>\n",
       "      <th>9996</th>\n",
       "      <td>Network Architect</td>\n",
       "      <td>nasa ames research center ha requirement senio...</td>\n",
       "    </tr>\n",
       "    <tr>\n",
       "      <th>9997</th>\n",
       "      <td>Network Architect</td>\n",
       "      <td>'ll distinguished engineer proven technology l...</td>\n",
       "    </tr>\n",
       "    <tr>\n",
       "      <th>9998</th>\n",
       "      <td>Network Architect</td>\n",
       "      <td>software development engineer full stack – ent...</td>\n",
       "    </tr>\n",
       "    <tr>\n",
       "      <th>9999</th>\n",
       "      <td>Network Architect</td>\n",
       "      <td>architect san francisco ca leading provider sy...</td>\n",
       "    </tr>\n",
       "  </tbody>\n",
       "</table>\n",
       "<p>10000 rows × 2 columns</p>\n",
       "</div>"
      ],
      "text/plain": [
       "                  Query                                        Description\n",
       "0        Data Scientist  job description junior data scientist ibm work...\n",
       "1        Data Scientist  overall summary data scientist data science so...\n",
       "2        Data Scientist  team data science team newly formed applied re...\n",
       "3        Data Scientist  need junior data scientist ny area remote succ...\n",
       "4        Data Scientist  want help guide core business spotify using in...\n",
       "...                 ...                                                ...\n",
       "9995  Network Architect  opportunity customer understand digital transf...\n",
       "9996  Network Architect  nasa ames research center ha requirement senio...\n",
       "9997  Network Architect  'll distinguished engineer proven technology l...\n",
       "9998  Network Architect  software development engineer full stack – ent...\n",
       "9999  Network Architect  architect san francisco ca leading provider sy...\n",
       "\n",
       "[10000 rows x 2 columns]"
      ]
     },
     "execution_count": 117,
     "metadata": {},
     "output_type": "execute_result"
    }
   ],
   "source": [
    "data[data['Query'] == 'Data Analyst']"
   ]
  },
  {
   "cell_type": "code",
   "execution_count": 5,
   "id": "c3123d3b",
   "metadata": {},
   "outputs": [
    {
     "data": {
      "text/plain": [
       "array(['Data Scientist', 'Data Analyst', 'Data Architect',\n",
       "       'Data Engineer', 'Statistics', 'Database Administrator',\n",
       "       'Business Analyst', 'Data and Analytics Manager',\n",
       "       'Machine Learning', 'Artificial Intelligence', 'Deep Learning',\n",
       "       'Business Intelligence Analyst', 'Data Visualization Expert',\n",
       "       'Data Quality Manager', 'Big Data Engineer', 'Data Warehousing',\n",
       "       'Technology Integration', 'IT Consultant',\n",
       "       'IT Systems Administrator', 'Cloud Architect',\n",
       "       'Technical Operations', 'Cloud Services Developer',\n",
       "       'Full Stack Developer', 'Information Security Analyst',\n",
       "       'Network Architect'], dtype=object)"
      ]
     },
     "execution_count": 5,
     "metadata": {},
     "output_type": "execute_result"
    }
   ],
   "source": [
    "data['Query'].unique()"
   ]
  },
  {
   "cell_type": "code",
   "execution_count": 6,
   "id": "b557930d",
   "metadata": {},
   "outputs": [
    {
     "data": {
      "text/plain": [
       "(25,)"
      ]
     },
     "execution_count": 6,
     "metadata": {},
     "output_type": "execute_result"
    }
   ],
   "source": [
    "data['Query'].unique().shape"
   ]
  },
  {
   "cell_type": "code",
   "execution_count": 7,
   "id": "080125e4",
   "metadata": {},
   "outputs": [],
   "source": [
    "train, test = train_test_split(data, test_size = 0.2)\n",
    "\n",
    "train_descs = train['Description']\n",
    "train_labels = train['Query']\n",
    " \n",
    "test_descs = test['Description']\n",
    "test_labels = test['Query']"
   ]
  },
  {
   "cell_type": "code",
   "execution_count": 8,
   "id": "19a77219",
   "metadata": {},
   "outputs": [],
   "source": [
    "num_labels = len(train_labels.unique().tolist())\n",
    "vocab_size = 1000\n",
    "batch_size = 32\n",
    "nb_epoch = 100\n",
    "\n",
    "# define Tokenizer with Vocab Size\n",
    "tokenizer = Tokenizer(num_words=vocab_size)\n",
    "tokenizer.fit_on_texts(train_descs)\n",
    "x_train = tokenizer.texts_to_matrix(train_descs, mode='tfidf')\n",
    "x_test = tokenizer.texts_to_matrix(test_descs, mode='tfidf')\n",
    " \n",
    "encoder = LabelBinarizer()\n",
    "encoder.fit(train_labels)\n",
    "y_train = encoder.transform(train_labels)\n",
    "y_test = encoder.transform(test_labels)"
   ]
  },
  {
   "cell_type": "code",
   "execution_count": 9,
   "id": "10d0132a",
   "metadata": {},
   "outputs": [],
   "source": [
    "model = Sequential()\n",
    "model.add(Dense(8192, input_shape=(vocab_size,), activation = 'relu', kernel_initializer = 'glorot_normal', kernel_constraint=maxnorm(2)))\n",
    "model.add(Dropout(0.8))\n",
    "model.add(Dense(2048, kernel_initializer = 'glorot_normal', activation= 'relu'))\n",
    "model.add(Dropout(0.8))\n",
    "model.add(Dense(num_labels))\n",
    "model.add(Activation('softmax'))\n",
    "    \n",
    "# Compile model\n",
    "model.compile(loss = 'categorical_crossentropy',\n",
    "              optimizer = 'sgd',\n",
    "              metrics = [metrics.categorical_accuracy, 'accuracy'])"
   ]
  },
  {
   "cell_type": "code",
   "execution_count": 10,
   "id": "c257bf53",
   "metadata": {},
   "outputs": [
    {
     "name": "stdout",
     "output_type": "stream",
     "text": [
      "Model: \"sequential\"\n",
      "_________________________________________________________________\n",
      "Layer (type)                 Output Shape              Param #   \n",
      "=================================================================\n",
      "dense (Dense)                (None, 8192)              8200192   \n",
      "_________________________________________________________________\n",
      "dropout (Dropout)            (None, 8192)              0         \n",
      "_________________________________________________________________\n",
      "dense_1 (Dense)              (None, 2048)              16779264  \n",
      "_________________________________________________________________\n",
      "dropout_1 (Dropout)          (None, 2048)              0         \n",
      "_________________________________________________________________\n",
      "dense_2 (Dense)              (None, 25)                51225     \n",
      "_________________________________________________________________\n",
      "activation (Activation)      (None, 25)                0         \n",
      "=================================================================\n",
      "Total params: 25,030,681\n",
      "Trainable params: 25,030,681\n",
      "Non-trainable params: 0\n",
      "_________________________________________________________________\n"
     ]
    }
   ],
   "source": [
    "model.summary()"
   ]
  },
  {
   "cell_type": "code",
   "execution_count": 11,
   "id": "2df7e997",
   "metadata": {},
   "outputs": [
    {
     "name": "stdout",
     "output_type": "stream",
     "text": [
      "Epoch 1/100\n",
      "225/225 [==============================] - 3s 9ms/step - loss: 4.1752 - categorical_accuracy: 0.0653 - accuracy: 0.0653 - val_loss: 2.7980 - val_categorical_accuracy: 0.3862 - val_accuracy: 0.3862\n",
      "Epoch 2/100\n",
      "225/225 [==============================] - 1s 6ms/step - loss: 2.9841 - categorical_accuracy: 0.1643 - accuracy: 0.1643 - val_loss: 2.5120 - val_categorical_accuracy: 0.4575 - val_accuracy: 0.4575\n",
      "Epoch 3/100\n",
      "225/225 [==============================] - 1s 6ms/step - loss: 2.5929 - categorical_accuracy: 0.2557 - accuracy: 0.2557 - val_loss: 2.2040 - val_categorical_accuracy: 0.4737 - val_accuracy: 0.4737\n",
      "Epoch 4/100\n",
      "225/225 [==============================] - 1s 6ms/step - loss: 2.3161 - categorical_accuracy: 0.3198 - accuracy: 0.3198 - val_loss: 1.9838 - val_categorical_accuracy: 0.5075 - val_accuracy: 0.5075\n",
      "Epoch 5/100\n",
      "225/225 [==============================] - 1s 6ms/step - loss: 2.1255 - categorical_accuracy: 0.3738 - accuracy: 0.3738 - val_loss: 1.8302 - val_categorical_accuracy: 0.5462 - val_accuracy: 0.5462\n",
      "Epoch 6/100\n",
      "225/225 [==============================] - 1s 6ms/step - loss: 1.9408 - categorical_accuracy: 0.4160 - accuracy: 0.4160 - val_loss: 1.6979 - val_categorical_accuracy: 0.5575 - val_accuracy: 0.5575\n",
      "Epoch 7/100\n",
      "225/225 [==============================] - 1s 6ms/step - loss: 1.8666 - categorical_accuracy: 0.4470 - accuracy: 0.4470 - val_loss: 1.6050 - val_categorical_accuracy: 0.5775 - val_accuracy: 0.5775\n",
      "Epoch 8/100\n",
      "225/225 [==============================] - 1s 6ms/step - loss: 1.7023 - categorical_accuracy: 0.4818 - accuracy: 0.4818 - val_loss: 1.5159 - val_categorical_accuracy: 0.5788 - val_accuracy: 0.5788\n",
      "Epoch 9/100\n",
      "225/225 [==============================] - 1s 6ms/step - loss: 1.6529 - categorical_accuracy: 0.5080 - accuracy: 0.5080 - val_loss: 1.4699 - val_categorical_accuracy: 0.5962 - val_accuracy: 0.5962\n",
      "Epoch 10/100\n",
      "225/225 [==============================] - 1s 6ms/step - loss: 1.5262 - categorical_accuracy: 0.5287 - accuracy: 0.5287 - val_loss: 1.3859 - val_categorical_accuracy: 0.6062 - val_accuracy: 0.6062\n",
      "Epoch 11/100\n",
      "225/225 [==============================] - 1s 6ms/step - loss: 1.4256 - categorical_accuracy: 0.5595 - accuracy: 0.5595 - val_loss: 1.3539 - val_categorical_accuracy: 0.6100 - val_accuracy: 0.6100\n",
      "Epoch 12/100\n",
      "225/225 [==============================] - 1s 6ms/step - loss: 1.3614 - categorical_accuracy: 0.5831 - accuracy: 0.5831 - val_loss: 1.3032 - val_categorical_accuracy: 0.6275 - val_accuracy: 0.6275\n",
      "Epoch 13/100\n",
      "225/225 [==============================] - 1s 6ms/step - loss: 1.2792 - categorical_accuracy: 0.6064 - accuracy: 0.6064 - val_loss: 1.2765 - val_categorical_accuracy: 0.6250 - val_accuracy: 0.6250\n",
      "Epoch 14/100\n",
      "225/225 [==============================] - 1s 6ms/step - loss: 1.1905 - categorical_accuracy: 0.6360 - accuracy: 0.6360 - val_loss: 1.2394 - val_categorical_accuracy: 0.6275 - val_accuracy: 0.6275\n",
      "Epoch 15/100\n",
      "225/225 [==============================] - 1s 6ms/step - loss: 1.1719 - categorical_accuracy: 0.6371 - accuracy: 0.6371 - val_loss: 1.2122 - val_categorical_accuracy: 0.6375 - val_accuracy: 0.6375\n",
      "Epoch 16/100\n",
      "225/225 [==============================] - 1s 6ms/step - loss: 1.0988 - categorical_accuracy: 0.6542 - accuracy: 0.6542 - val_loss: 1.1823 - val_categorical_accuracy: 0.6413 - val_accuracy: 0.6413\n",
      "Epoch 17/100\n",
      "225/225 [==============================] - 1s 6ms/step - loss: 1.0218 - categorical_accuracy: 0.6771 - accuracy: 0.6771 - val_loss: 1.1614 - val_categorical_accuracy: 0.6438 - val_accuracy: 0.6438\n",
      "Epoch 18/100\n",
      "225/225 [==============================] - 1s 6ms/step - loss: 0.9782 - categorical_accuracy: 0.6842 - accuracy: 0.6842 - val_loss: 1.1358 - val_categorical_accuracy: 0.6413 - val_accuracy: 0.6413\n",
      "Epoch 19/100\n",
      "225/225 [==============================] - 1s 6ms/step - loss: 0.9155 - categorical_accuracy: 0.7123 - accuracy: 0.7123 - val_loss: 1.1251 - val_categorical_accuracy: 0.6575 - val_accuracy: 0.6575\n",
      "Epoch 20/100\n",
      "225/225 [==============================] - 1s 6ms/step - loss: 0.8826 - categorical_accuracy: 0.7244 - accuracy: 0.7244 - val_loss: 1.1046 - val_categorical_accuracy: 0.6587 - val_accuracy: 0.6587\n",
      "Epoch 21/100\n",
      "225/225 [==============================] - 1s 6ms/step - loss: 0.8093 - categorical_accuracy: 0.7466 - accuracy: 0.7466 - val_loss: 1.1162 - val_categorical_accuracy: 0.6475 - val_accuracy: 0.6475\n",
      "Epoch 22/100\n",
      "225/225 [==============================] - 1s 6ms/step - loss: 0.7860 - categorical_accuracy: 0.7464 - accuracy: 0.7464 - val_loss: 1.1053 - val_categorical_accuracy: 0.6475 - val_accuracy: 0.6475\n",
      "Epoch 23/100\n",
      "225/225 [==============================] - 1s 6ms/step - loss: 0.7371 - categorical_accuracy: 0.7672 - accuracy: 0.7672 - val_loss: 1.1064 - val_categorical_accuracy: 0.6538 - val_accuracy: 0.6538\n",
      "Epoch 24/100\n",
      "225/225 [==============================] - 1s 6ms/step - loss: 0.7113 - categorical_accuracy: 0.7704 - accuracy: 0.7704 - val_loss: 1.0870 - val_categorical_accuracy: 0.6725 - val_accuracy: 0.6725\n",
      "Epoch 25/100\n",
      "225/225 [==============================] - 1s 6ms/step - loss: 0.6532 - categorical_accuracy: 0.7856 - accuracy: 0.7856 - val_loss: 1.0854 - val_categorical_accuracy: 0.6650 - val_accuracy: 0.6650\n",
      "Epoch 26/100\n",
      "225/225 [==============================] - 1s 6ms/step - loss: 0.6219 - categorical_accuracy: 0.8005 - accuracy: 0.8005 - val_loss: 1.0927 - val_categorical_accuracy: 0.6637 - val_accuracy: 0.6637\n",
      "Epoch 27/100\n",
      "225/225 [==============================] - 1s 6ms/step - loss: 0.6153 - categorical_accuracy: 0.8006 - accuracy: 0.8006 - val_loss: 1.0974 - val_categorical_accuracy: 0.6650 - val_accuracy: 0.6650\n",
      "Epoch 28/100\n",
      "225/225 [==============================] - 1s 6ms/step - loss: 0.5665 - categorical_accuracy: 0.8169 - accuracy: 0.8169 - val_loss: 1.0934 - val_categorical_accuracy: 0.6562 - val_accuracy: 0.6562\n",
      "Epoch 29/100\n",
      "225/225 [==============================] - 1s 6ms/step - loss: 0.5224 - categorical_accuracy: 0.8317 - accuracy: 0.8317 - val_loss: 1.0923 - val_categorical_accuracy: 0.6737 - val_accuracy: 0.6737\n",
      "Epoch 30/100\n",
      "225/225 [==============================] - 1s 6ms/step - loss: 0.4935 - categorical_accuracy: 0.8417 - accuracy: 0.8417 - val_loss: 1.0840 - val_categorical_accuracy: 0.6750 - val_accuracy: 0.6750\n",
      "Epoch 31/100\n",
      "225/225 [==============================] - 1s 6ms/step - loss: 0.4889 - categorical_accuracy: 0.8353 - accuracy: 0.8353 - val_loss: 1.0832 - val_categorical_accuracy: 0.6750 - val_accuracy: 0.6750\n",
      "Epoch 32/100\n",
      "225/225 [==============================] - 1s 6ms/step - loss: 0.4509 - categorical_accuracy: 0.8572 - accuracy: 0.8572 - val_loss: 1.1155 - val_categorical_accuracy: 0.6625 - val_accuracy: 0.6625\n",
      "Epoch 33/100\n",
      "225/225 [==============================] - 1s 6ms/step - loss: 0.4514 - categorical_accuracy: 0.8568 - accuracy: 0.8568 - val_loss: 1.1033 - val_categorical_accuracy: 0.6725 - val_accuracy: 0.6725\n",
      "Epoch 34/100\n",
      "225/225 [==============================] - 1s 6ms/step - loss: 0.3971 - categorical_accuracy: 0.8708 - accuracy: 0.8708 - val_loss: 1.1288 - val_categorical_accuracy: 0.6737 - val_accuracy: 0.6737\n",
      "Epoch 35/100\n",
      "225/225 [==============================] - 1s 6ms/step - loss: 0.3927 - categorical_accuracy: 0.8697 - accuracy: 0.8697 - val_loss: 1.1250 - val_categorical_accuracy: 0.6787 - val_accuracy: 0.6787\n",
      "Epoch 36/100\n",
      "225/225 [==============================] - 1s 6ms/step - loss: 0.3842 - categorical_accuracy: 0.8737 - accuracy: 0.8737 - val_loss: 1.1182 - val_categorical_accuracy: 0.6687 - val_accuracy: 0.6687\n",
      "Epoch 37/100\n",
      "225/225 [==============================] - 1s 6ms/step - loss: 0.3793 - categorical_accuracy: 0.8822 - accuracy: 0.8822 - val_loss: 1.1292 - val_categorical_accuracy: 0.6762 - val_accuracy: 0.6762\n",
      "Epoch 38/100\n",
      "225/225 [==============================] - 1s 6ms/step - loss: 0.3437 - categorical_accuracy: 0.8932 - accuracy: 0.8932 - val_loss: 1.1552 - val_categorical_accuracy: 0.6625 - val_accuracy: 0.6625\n",
      "Epoch 39/100\n",
      "225/225 [==============================] - 1s 6ms/step - loss: 0.3322 - categorical_accuracy: 0.8902 - accuracy: 0.8902 - val_loss: 1.1727 - val_categorical_accuracy: 0.6538 - val_accuracy: 0.6538\n",
      "Epoch 40/100\n",
      "225/225 [==============================] - 1s 6ms/step - loss: 0.3043 - categorical_accuracy: 0.9030 - accuracy: 0.9030 - val_loss: 1.1612 - val_categorical_accuracy: 0.6687 - val_accuracy: 0.6687\n",
      "Epoch 41/100\n",
      "225/225 [==============================] - 1s 6ms/step - loss: 0.3047 - categorical_accuracy: 0.8985 - accuracy: 0.8985 - val_loss: 1.1731 - val_categorical_accuracy: 0.6650 - val_accuracy: 0.6650\n",
      "Epoch 42/100\n",
      "225/225 [==============================] - 1s 6ms/step - loss: 0.2776 - categorical_accuracy: 0.9109 - accuracy: 0.9109 - val_loss: 1.1895 - val_categorical_accuracy: 0.6587 - val_accuracy: 0.6587\n",
      "Epoch 43/100\n",
      "225/225 [==============================] - 1s 6ms/step - loss: 0.2815 - categorical_accuracy: 0.9119 - accuracy: 0.9119 - val_loss: 1.1922 - val_categorical_accuracy: 0.6687 - val_accuracy: 0.6687\n",
      "Epoch 44/100\n",
      "225/225 [==============================] - 1s 6ms/step - loss: 0.2616 - categorical_accuracy: 0.9183 - accuracy: 0.9183 - val_loss: 1.1884 - val_categorical_accuracy: 0.6812 - val_accuracy: 0.6812\n",
      "Epoch 45/100\n",
      "225/225 [==============================] - 1s 6ms/step - loss: 0.2411 - categorical_accuracy: 0.9236 - accuracy: 0.9236 - val_loss: 1.2044 - val_categorical_accuracy: 0.6775 - val_accuracy: 0.6775\n",
      "Epoch 46/100\n",
      "225/225 [==============================] - 1s 6ms/step - loss: 0.2372 - categorical_accuracy: 0.9251 - accuracy: 0.9251 - val_loss: 1.2367 - val_categorical_accuracy: 0.6587 - val_accuracy: 0.6587\n",
      "Epoch 47/100\n",
      "225/225 [==============================] - 1s 6ms/step - loss: 0.2426 - categorical_accuracy: 0.9179 - accuracy: 0.9179 - val_loss: 1.2258 - val_categorical_accuracy: 0.6712 - val_accuracy: 0.6712\n",
      "Epoch 48/100\n",
      "225/225 [==============================] - 1s 6ms/step - loss: 0.2229 - categorical_accuracy: 0.9305 - accuracy: 0.9305 - val_loss: 1.2271 - val_categorical_accuracy: 0.6725 - val_accuracy: 0.6725\n",
      "Epoch 49/100\n",
      "225/225 [==============================] - 1s 6ms/step - loss: 0.2241 - categorical_accuracy: 0.9325 - accuracy: 0.9325 - val_loss: 1.2390 - val_categorical_accuracy: 0.6625 - val_accuracy: 0.6625\n",
      "Epoch 50/100\n",
      "225/225 [==============================] - 1s 6ms/step - loss: 0.2095 - categorical_accuracy: 0.9395 - accuracy: 0.9395 - val_loss: 1.2532 - val_categorical_accuracy: 0.6637 - val_accuracy: 0.6637\n",
      "Epoch 51/100\n",
      "225/225 [==============================] - 1s 6ms/step - loss: 0.1984 - categorical_accuracy: 0.9337 - accuracy: 0.9337 - val_loss: 1.2472 - val_categorical_accuracy: 0.6612 - val_accuracy: 0.6612\n",
      "Epoch 52/100\n",
      "225/225 [==============================] - 1s 6ms/step - loss: 0.1931 - categorical_accuracy: 0.9415 - accuracy: 0.9415 - val_loss: 1.2583 - val_categorical_accuracy: 0.6625 - val_accuracy: 0.6625\n",
      "Epoch 53/100\n",
      "225/225 [==============================] - 1s 6ms/step - loss: 0.1828 - categorical_accuracy: 0.9426 - accuracy: 0.9426 - val_loss: 1.2735 - val_categorical_accuracy: 0.6575 - val_accuracy: 0.6575\n",
      "Epoch 54/100\n",
      "225/225 [==============================] - 1s 6ms/step - loss: 0.1939 - categorical_accuracy: 0.9342 - accuracy: 0.9342 - val_loss: 1.2852 - val_categorical_accuracy: 0.6737 - val_accuracy: 0.6737\n",
      "Epoch 55/100\n",
      "225/225 [==============================] - 1s 6ms/step - loss: 0.1655 - categorical_accuracy: 0.9544 - accuracy: 0.9544 - val_loss: 1.2766 - val_categorical_accuracy: 0.6687 - val_accuracy: 0.6687\n",
      "Epoch 56/100\n",
      "225/225 [==============================] - 1s 6ms/step - loss: 0.1814 - categorical_accuracy: 0.9484 - accuracy: 0.9484 - val_loss: 1.2789 - val_categorical_accuracy: 0.6687 - val_accuracy: 0.6687\n",
      "Epoch 57/100\n",
      "225/225 [==============================] - 1s 6ms/step - loss: 0.1611 - categorical_accuracy: 0.9523 - accuracy: 0.9523 - val_loss: 1.2984 - val_categorical_accuracy: 0.6675 - val_accuracy: 0.6675\n",
      "Epoch 58/100\n",
      "225/225 [==============================] - 1s 6ms/step - loss: 0.1718 - categorical_accuracy: 0.9470 - accuracy: 0.9470 - val_loss: 1.2955 - val_categorical_accuracy: 0.6687 - val_accuracy: 0.6687\n",
      "Epoch 59/100\n",
      "225/225 [==============================] - 1s 6ms/step - loss: 0.1597 - categorical_accuracy: 0.9535 - accuracy: 0.9535 - val_loss: 1.3112 - val_categorical_accuracy: 0.6675 - val_accuracy: 0.6675\n",
      "Epoch 60/100\n",
      "225/225 [==============================] - 1s 6ms/step - loss: 0.1578 - categorical_accuracy: 0.9525 - accuracy: 0.9525 - val_loss: 1.3185 - val_categorical_accuracy: 0.6675 - val_accuracy: 0.6675\n",
      "Epoch 61/100\n",
      "225/225 [==============================] - 1s 6ms/step - loss: 0.1570 - categorical_accuracy: 0.9519 - accuracy: 0.9519 - val_loss: 1.3342 - val_categorical_accuracy: 0.6637 - val_accuracy: 0.6637\n",
      "Epoch 62/100\n",
      "225/225 [==============================] - 1s 6ms/step - loss: 0.1459 - categorical_accuracy: 0.9596 - accuracy: 0.9596 - val_loss: 1.3428 - val_categorical_accuracy: 0.6612 - val_accuracy: 0.6612\n",
      "Epoch 63/100\n",
      "225/225 [==============================] - 1s 6ms/step - loss: 0.1438 - categorical_accuracy: 0.9558 - accuracy: 0.9558 - val_loss: 1.3474 - val_categorical_accuracy: 0.6612 - val_accuracy: 0.6612\n",
      "Epoch 64/100\n",
      "225/225 [==============================] - 1s 6ms/step - loss: 0.1345 - categorical_accuracy: 0.9594 - accuracy: 0.9594 - val_loss: 1.3482 - val_categorical_accuracy: 0.6725 - val_accuracy: 0.6725\n",
      "Epoch 65/100\n",
      "225/225 [==============================] - 1s 6ms/step - loss: 0.1487 - categorical_accuracy: 0.9555 - accuracy: 0.9555 - val_loss: 1.3510 - val_categorical_accuracy: 0.6725 - val_accuracy: 0.6725\n",
      "Epoch 66/100\n",
      "225/225 [==============================] - 1s 6ms/step - loss: 0.1302 - categorical_accuracy: 0.9631 - accuracy: 0.9631 - val_loss: 1.3747 - val_categorical_accuracy: 0.6562 - val_accuracy: 0.6562\n",
      "Epoch 67/100\n",
      "225/225 [==============================] - 1s 6ms/step - loss: 0.1322 - categorical_accuracy: 0.9616 - accuracy: 0.9616 - val_loss: 1.3759 - val_categorical_accuracy: 0.6675 - val_accuracy: 0.6675\n",
      "Epoch 68/100\n",
      "225/225 [==============================] - 1s 6ms/step - loss: 0.1368 - categorical_accuracy: 0.9592 - accuracy: 0.9592 - val_loss: 1.3806 - val_categorical_accuracy: 0.6650 - val_accuracy: 0.6650\n",
      "Epoch 69/100\n",
      "225/225 [==============================] - 1s 6ms/step - loss: 0.1310 - categorical_accuracy: 0.9636 - accuracy: 0.9636 - val_loss: 1.3756 - val_categorical_accuracy: 0.6700 - val_accuracy: 0.6700\n",
      "Epoch 70/100\n",
      "225/225 [==============================] - 1s 6ms/step - loss: 0.1269 - categorical_accuracy: 0.9659 - accuracy: 0.9659 - val_loss: 1.3944 - val_categorical_accuracy: 0.6625 - val_accuracy: 0.6625\n",
      "Epoch 71/100\n",
      "225/225 [==============================] - 1s 6ms/step - loss: 0.1240 - categorical_accuracy: 0.9639 - accuracy: 0.9639 - val_loss: 1.3979 - val_categorical_accuracy: 0.6637 - val_accuracy: 0.6637\n",
      "Epoch 72/100\n",
      "225/225 [==============================] - 1s 7ms/step - loss: 0.1239 - categorical_accuracy: 0.9615 - accuracy: 0.9615 - val_loss: 1.3914 - val_categorical_accuracy: 0.6637 - val_accuracy: 0.6637\n",
      "Epoch 73/100\n",
      "225/225 [==============================] - 2s 7ms/step - loss: 0.1109 - categorical_accuracy: 0.9659 - accuracy: 0.9659 - val_loss: 1.4030 - val_categorical_accuracy: 0.6612 - val_accuracy: 0.6612\n",
      "Epoch 74/100\n",
      "225/225 [==============================] - 1s 6ms/step - loss: 0.1176 - categorical_accuracy: 0.9672 - accuracy: 0.9672 - val_loss: 1.4078 - val_categorical_accuracy: 0.6600 - val_accuracy: 0.6600\n",
      "Epoch 75/100\n",
      "225/225 [==============================] - 1s 6ms/step - loss: 0.1267 - categorical_accuracy: 0.9645 - accuracy: 0.9645 - val_loss: 1.4197 - val_categorical_accuracy: 0.6625 - val_accuracy: 0.6625\n",
      "Epoch 76/100\n",
      "225/225 [==============================] - 1s 6ms/step - loss: 0.1176 - categorical_accuracy: 0.9653 - accuracy: 0.9653 - val_loss: 1.4252 - val_categorical_accuracy: 0.6625 - val_accuracy: 0.6625\n",
      "Epoch 77/100\n",
      "225/225 [==============================] - 1s 6ms/step - loss: 0.1132 - categorical_accuracy: 0.9671 - accuracy: 0.9671 - val_loss: 1.4202 - val_categorical_accuracy: 0.6650 - val_accuracy: 0.6650\n",
      "Epoch 78/100\n",
      "225/225 [==============================] - 1s 6ms/step - loss: 0.1232 - categorical_accuracy: 0.9626 - accuracy: 0.9626 - val_loss: 1.4184 - val_categorical_accuracy: 0.6675 - val_accuracy: 0.6675\n",
      "Epoch 79/100\n",
      "225/225 [==============================] - 1s 6ms/step - loss: 0.1082 - categorical_accuracy: 0.9678 - accuracy: 0.9678 - val_loss: 1.4169 - val_categorical_accuracy: 0.6625 - val_accuracy: 0.6625\n",
      "Epoch 80/100\n",
      "225/225 [==============================] - 1s 6ms/step - loss: 0.1015 - categorical_accuracy: 0.9710 - accuracy: 0.9710 - val_loss: 1.4335 - val_categorical_accuracy: 0.6650 - val_accuracy: 0.6650\n",
      "Epoch 81/100\n",
      "225/225 [==============================] - 1s 6ms/step - loss: 0.1050 - categorical_accuracy: 0.9701 - accuracy: 0.9701 - val_loss: 1.4345 - val_categorical_accuracy: 0.6650 - val_accuracy: 0.6650\n",
      "Epoch 82/100\n",
      "225/225 [==============================] - 1s 6ms/step - loss: 0.1119 - categorical_accuracy: 0.9659 - accuracy: 0.9659 - val_loss: 1.4418 - val_categorical_accuracy: 0.6612 - val_accuracy: 0.6612\n",
      "Epoch 83/100\n",
      "225/225 [==============================] - 1s 6ms/step - loss: 0.0982 - categorical_accuracy: 0.9716 - accuracy: 0.9716 - val_loss: 1.4625 - val_categorical_accuracy: 0.6612 - val_accuracy: 0.6612\n",
      "Epoch 84/100\n",
      "225/225 [==============================] - 1s 6ms/step - loss: 0.1093 - categorical_accuracy: 0.9659 - accuracy: 0.9659 - val_loss: 1.4632 - val_categorical_accuracy: 0.6575 - val_accuracy: 0.6575\n",
      "Epoch 85/100\n",
      "225/225 [==============================] - 1s 6ms/step - loss: 0.0966 - categorical_accuracy: 0.9709 - accuracy: 0.9709 - val_loss: 1.4763 - val_categorical_accuracy: 0.6575 - val_accuracy: 0.6575\n",
      "Epoch 86/100\n",
      "225/225 [==============================] - 1s 6ms/step - loss: 0.0926 - categorical_accuracy: 0.9737 - accuracy: 0.9737 - val_loss: 1.4848 - val_categorical_accuracy: 0.6650 - val_accuracy: 0.6650\n",
      "Epoch 87/100\n",
      "225/225 [==============================] - 1s 6ms/step - loss: 0.0913 - categorical_accuracy: 0.9729 - accuracy: 0.9729 - val_loss: 1.4868 - val_categorical_accuracy: 0.6562 - val_accuracy: 0.6562\n",
      "Epoch 88/100\n",
      "225/225 [==============================] - 1s 6ms/step - loss: 0.0862 - categorical_accuracy: 0.9747 - accuracy: 0.9747 - val_loss: 1.4763 - val_categorical_accuracy: 0.6637 - val_accuracy: 0.6637\n",
      "Epoch 89/100\n",
      "225/225 [==============================] - 1s 6ms/step - loss: 0.0873 - categorical_accuracy: 0.9740 - accuracy: 0.9740 - val_loss: 1.5055 - val_categorical_accuracy: 0.6637 - val_accuracy: 0.6637\n",
      "Epoch 90/100\n",
      "225/225 [==============================] - 1s 6ms/step - loss: 0.0801 - categorical_accuracy: 0.9775 - accuracy: 0.9775 - val_loss: 1.5042 - val_categorical_accuracy: 0.6687 - val_accuracy: 0.6687\n",
      "Epoch 91/100\n",
      "225/225 [==============================] - 1s 6ms/step - loss: 0.1017 - categorical_accuracy: 0.9703 - accuracy: 0.9703 - val_loss: 1.5094 - val_categorical_accuracy: 0.6725 - val_accuracy: 0.6725\n",
      "Epoch 92/100\n",
      "225/225 [==============================] - 1s 6ms/step - loss: 0.0817 - categorical_accuracy: 0.9752 - accuracy: 0.9752 - val_loss: 1.5119 - val_categorical_accuracy: 0.6700 - val_accuracy: 0.6700\n",
      "Epoch 93/100\n",
      "225/225 [==============================] - 1s 6ms/step - loss: 0.0990 - categorical_accuracy: 0.9719 - accuracy: 0.9719 - val_loss: 1.4923 - val_categorical_accuracy: 0.6700 - val_accuracy: 0.6700\n",
      "Epoch 94/100\n",
      "225/225 [==============================] - 1s 6ms/step - loss: 0.0893 - categorical_accuracy: 0.9755 - accuracy: 0.9755 - val_loss: 1.5083 - val_categorical_accuracy: 0.6587 - val_accuracy: 0.6587\n",
      "Epoch 95/100\n",
      "225/225 [==============================] - 1s 6ms/step - loss: 0.0943 - categorical_accuracy: 0.9749 - accuracy: 0.9749 - val_loss: 1.5219 - val_categorical_accuracy: 0.6587 - val_accuracy: 0.6587\n",
      "Epoch 96/100\n",
      "225/225 [==============================] - 1s 6ms/step - loss: 0.0769 - categorical_accuracy: 0.9784 - accuracy: 0.9784 - val_loss: 1.5212 - val_categorical_accuracy: 0.6637 - val_accuracy: 0.6637\n",
      "Epoch 97/100\n",
      "225/225 [==============================] - 1s 6ms/step - loss: 0.0814 - categorical_accuracy: 0.9738 - accuracy: 0.9738 - val_loss: 1.5428 - val_categorical_accuracy: 0.6637 - val_accuracy: 0.6637\n",
      "Epoch 98/100\n",
      "225/225 [==============================] - 1s 6ms/step - loss: 0.0920 - categorical_accuracy: 0.9752 - accuracy: 0.9752 - val_loss: 1.5284 - val_categorical_accuracy: 0.6625 - val_accuracy: 0.6625\n",
      "Epoch 99/100\n",
      "225/225 [==============================] - 1s 6ms/step - loss: 0.0704 - categorical_accuracy: 0.9774 - accuracy: 0.9774 - val_loss: 1.5370 - val_categorical_accuracy: 0.6612 - val_accuracy: 0.6612\n",
      "Epoch 100/100\n",
      "225/225 [==============================] - 1s 6ms/step - loss: 0.0888 - categorical_accuracy: 0.9761 - accuracy: 0.9761 - val_loss: 1.5349 - val_categorical_accuracy: 0.6587 - val_accuracy: 0.6587\n"
     ]
    }
   ],
   "source": [
    "history = model.fit(x_train, y_train,\n",
    "                    batch_size=batch_size,\n",
    "                    epochs=nb_epoch,\n",
    "                    verbose=1,\n",
    "                    validation_split=0.1)"
   ]
  },
  {
   "cell_type": "code",
   "execution_count": 12,
   "id": "9c0e6874",
   "metadata": {},
   "outputs": [
    {
     "data": {
      "image/png": "[encoded data removed]",
      "text/plain": [
       "<Figure size 432x288 with 1 Axes>"
      ]
     },
     "metadata": {
      "needs_background": "light"
     },
     "output_type": "display_data"
    }
   ],
   "source": [
    "import matplotlib.pyplot as plt\n",
    "plt.plot(history.history['accuracy'])\n",
    "plt.plot(history.history['val_accuracy'])\n",
    "plt.title('model accuracy')\n",
    "plt.ylabel('accuracy')\n",
    "plt.xlabel('epoch')\n",
    "plt.legend(['train', 'test'], loc='upper left')\n",
    "plt.show()"
   ]
  },
  {
   "cell_type": "code",
   "execution_count": 13,
   "id": "58d8c791",
   "metadata": {},
   "outputs": [
    {
     "data": {
      "image/png": "[encoded data removed]",
      "text/plain": [
       "<Figure size 432x288 with 1 Axes>"
      ]
     },
     "metadata": {
      "needs_background": "light"
     },
     "output_type": "display_data"
    }
   ],
   "source": [
    "plt.plot(history.history['loss'])\n",
    "plt.plot(history.history['val_loss'])\n",
    "plt.title('model loss')\n",
    "plt.ylabel('loss')\n",
    "plt.xlabel('epoch')\n",
    "plt.legend(['train', 'test'], loc='upper left')\n",
    "plt.show()"
   ]
  },
  {
   "cell_type": "code",
   "execution_count": 14,
   "id": "6b4875d2",
   "metadata": {},
   "outputs": [
    {
     "name": "stdout",
     "output_type": "stream",
     "text": [
      "63/63 [==============================] - 0s 3ms/step - loss: 1.5584 - categorical_accuracy: 0.6620 - accuracy: 0.6620\n",
      "\n",
      "Test categorical_crossentropy: 1.5584089756011963\n",
      "Categorical accuracy: 0.6620000004768372\n",
      "Accuracy: 0.6620000004768372\n"
     ]
    }
   ],
   "source": [
    "score = model.evaluate(x_test, y_test,\n",
    "                       batch_size=batch_size, verbose=1)\n",
    " \n",
    "print('\\nTest categorical_crossentropy:', score[0])\n",
    "print('Categorical accuracy:', score[1])\n",
    "print('Accuracy:', score[2])"
   ]
  },
  {
   "cell_type": "code",
   "execution_count": 132,
   "id": "bfc1afe3",
   "metadata": {},
   "outputs": [
    {
     "name": "stdout",
     "output_type": "stream",
     "text": [
      "mathematics\n"
     ]
    }
   ],
   "source": [
    "desc1 = input()"
   ]
  },
  {
   "cell_type": "code",
   "execution_count": 133,
   "id": "64a9b0e6",
   "metadata": {},
   "outputs": [
    {
     "data": {
      "text/plain": [
       "'mathematics'"
      ]
     },
     "execution_count": 133,
     "metadata": {},
     "output_type": "execute_result"
    }
   ],
   "source": [
    "desc = desc1\n",
    "desc"
   ]
  },
  {
   "cell_type": "code",
   "execution_count": 134,
   "id": "28094529",
   "metadata": {},
   "outputs": [],
   "source": [
    "encoded_docs = [one_hot(desc, vocab_size)]"
   ]
  },
  {
   "cell_type": "code",
   "execution_count": 135,
   "id": "82c6a0b1",
   "metadata": {},
   "outputs": [],
   "source": [
    "padded_text = pad_sequences(encoded_docs, vocab_size, padding='post')"
   ]
  },
  {
   "cell_type": "code",
   "execution_count": 136,
   "id": "14c22eef",
   "metadata": {},
   "outputs": [],
   "source": [
    "pred = model.predict(padded_text)"
   ]
  },
  {
   "cell_type": "code",
   "execution_count": 137,
   "id": "41d43ae4",
   "metadata": {},
   "outputs": [],
   "source": [
    "encoder = LabelBinarizer()\n",
    "encoder.fit(test_labels)\n",
    "result = encoder.inverse_transform(pred)"
   ]
  },
  {
   "cell_type": "code",
   "execution_count": 139,
   "id": "b5c489c6",
   "metadata": {},
   "outputs": [
    {
     "data": {
      "text/plain": [
       "'Statistics'"
      ]
     },
     "execution_count": 139,
     "metadata": {},
     "output_type": "execute_result"
    }
   ],
   "source": [
    "result[0]"
   ]
  },
  {
   "cell_type": "code",
   "execution_count": null,
   "id": "061d04ab",
   "metadata": {},
   "outputs": [],
   "source": []
  },
  {
   "cell_type": "code",
   "execution_count": null,
   "id": "44ab0732",
   "metadata": {},
   "outputs": [],
   "source": []
  },
  {
   "cell_type": "code",
   "execution_count": 64,
   "id": "13500ca9",
   "metadata": {},
   "outputs": [],
   "source": [
    "import tensorflow as tf"
   ]
  },
  {
   "cell_type": "code",
   "execution_count": 65,
   "id": "dc5c6f5f",
   "metadata": {},
   "outputs": [
    {
     "name": "stdout",
     "output_type": "stream",
     "text": [
      "INFO:tensorflow:Assets written to: ./assets\n"
     ]
    }
   ],
   "source": [
    "tf.saved_model.save(model, './')"
   ]
  },
  {
   "cell_type": "code",
   "execution_count": 66,
   "id": "d8c4bd0a",
   "metadata": {},
   "outputs": [],
   "source": [
    "converter = tf.lite.TFLiteConverter.from_saved_model('./')\n",
    "tflite_model = converter.convert()"
   ]
  },
  {
   "cell_type": "code",
   "execution_count": 67,
   "id": "e3165724",
   "metadata": {},
   "outputs": [
    {
     "data": {
      "text/plain": [
       "100124396"
      ]
     },
     "execution_count": 67,
     "metadata": {},
     "output_type": "execute_result"
    }
   ],
   "source": [
    "import pathlib\n",
    "\n",
    "tflite_model_file = pathlib.Path('model.tflite')\n",
    "tflite_model_file.write_bytes(tflite_model)"
   ]
  },
  {
   "cell_type": "code",
   "execution_count": null,
   "id": "72254f99",
   "metadata": {},
   "outputs": [],
   "source": []
  },
  {
   "cell_type": "code",
   "execution_count": null,
   "id": "d788fee4",
   "metadata": {},
   "outputs": [],
   "source": []
  }
 ],
 "metadata": {
  "kernelspec": {
   "display_name": "Python 3",
   "language": "python",
   "name": "python3"
  },
  "language_info": {
   "codemirror_mode": {
    "name": "ipython",
    "version": 3
   },
   "file_extension": ".py",
   "mimetype": "text/x-python",
   "name": "python",
   "nbconvert_exporter": "python",
   "pygments_lexer": "ipython3",
   "version": "3.8.0"
  }
 },
 "nbformat": 4,
 "nbformat_minor": 5
}
